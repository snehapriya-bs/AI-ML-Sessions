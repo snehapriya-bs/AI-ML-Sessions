{
  "metadata": {
    "kernelspec": {
      "language": "python",
      "display_name": "Python 3",
      "name": "python3"
    },
    "language_info": {
      "pygments_lexer": "ipython3",
      "nbconvert_exporter": "python",
      "version": "3.6.4",
      "file_extension": ".py",
      "codemirror_mode": {
        "name": "ipython",
        "version": 3
      },
      "name": "python",
      "mimetype": "text/x-python"
    },
    "colab": {
      "name": "Prediction✍ of Sales📊using XGBoost🌟",
      "provenance": []
    }
  },
  "nbformat_minor": 0,
  "nbformat": 4,
  "cells": [
    {
      "cell_type": "markdown",
      "source": [
        "**UNDERSTANDING OF THE PROBLEM STATEMENT:**\n",
        "    \n",
        "*   According to the quote, \"Success in sales is the sum of small efforts, repeated day in & day out\"\n",
        "  \n",
        "*   Let us consider a supermarket has several outlets or several stores around the world & they want us to predict the sales which they can expect.\n",
        "\n",
        "**APPLICATION OF PREDICTING THE SALES:**\n",
        "   \n",
        "*    We can tell the company what are all the challenges they may face\n",
        "   \n",
        "*    What are the brands or products which is sold the most & other such kind of things\n",
        "   \n",
        "*    This helps sales team to understand which product to sell & which product to promote & other such kind of things\n",
        "   \n",
        "*    They can also make several marketing plans(let's say that a particular product in a particular store is getting sold the most & we may find some insights from it - as of why this product is getting sold the most & this helps the company to make better marketing decisions)\n",
        "    \n"
      ],
      "metadata": {
        "execution": {
          "iopub.status.busy": "2022-01-28T03:10:50.203295Z",
          "iopub.execute_input": "2022-01-28T03:10:50.203889Z",
          "iopub.status.idle": "2022-01-28T03:10:50.211911Z",
          "shell.execute_reply.started": "2022-01-28T03:10:50.203853Z",
          "shell.execute_reply": "2022-01-28T03:10:50.210777Z"
        },
        "id": "fqWeu7f30xcz"
      }
    },
    {
      "cell_type": "markdown",
      "source": [
        "**IMPORTING LIBRARIES**"
      ],
      "metadata": {
        "id": "WWQTkkMd0xc0"
      }
    },
    {
      "cell_type": "code",
      "source": [
        "import numpy as np\n",
        "import pandas as pd\n",
        "import matplotlib.pyplot as plt\n",
        "import seaborn as sns\n",
        "from sklearn.preprocessing import LabelEncoder\n",
        "from sklearn.model_selection import train_test_split\n",
        "from xgboost import XGBRegressor\n",
        "from sklearn import metrics"
      ],
      "metadata": {
        "execution": {
          "iopub.status.busy": "2022-01-28T07:20:21.182848Z",
          "iopub.execute_input": "2022-01-28T07:20:21.183458Z",
          "iopub.status.idle": "2022-01-28T07:20:21.804884Z",
          "shell.execute_reply.started": "2022-01-28T07:20:21.183408Z",
          "shell.execute_reply": "2022-01-28T07:20:21.803882Z"
        },
        "trusted": true,
        "id": "776fx5uB0xc0"
      },
      "execution_count": null,
      "outputs": []
    },
    {
      "cell_type": "markdown",
      "source": [
        "**LOADING THE DATA**"
      ],
      "metadata": {
        "id": "fsvq02yH0xc1"
      }
    },
    {
      "cell_type": "code",
      "source": [
        "# loading the data\n",
        "sales_data = pd.read_csv('/kaggle/input/bigmart-sales-data/Train.csv')\n",
        "#checking the first 5 rows of the dataframe\n",
        "sales_data.head()"
      ],
      "metadata": {
        "execution": {
          "iopub.status.busy": "2022-01-28T07:20:22.13464Z",
          "iopub.execute_input": "2022-01-28T07:20:22.137762Z",
          "iopub.status.idle": "2022-01-28T07:20:22.183203Z",
          "shell.execute_reply.started": "2022-01-28T07:20:22.137686Z",
          "shell.execute_reply": "2022-01-28T07:20:22.182293Z"
        },
        "trusted": true,
        "id": "LqqBpjDJ0xc1"
      },
      "execution_count": null,
      "outputs": []
    },
    {
      "cell_type": "markdown",
      "source": [
        "**It is important to note that Item_Outlet_Sales is the target variable which we are going to predict & the remaining are the feature variables**"
      ],
      "metadata": {
        "id": "sXZmSPfR0xc1"
      }
    },
    {
      "cell_type": "code",
      "source": [
        "# checking the number of data points(different products present in the dataset) & number of features\n",
        "sales_data.shape"
      ],
      "metadata": {
        "execution": {
          "iopub.status.busy": "2022-01-28T07:20:23.087748Z",
          "iopub.execute_input": "2022-01-28T07:20:23.088125Z",
          "iopub.status.idle": "2022-01-28T07:20:23.094901Z",
          "shell.execute_reply.started": "2022-01-28T07:20:23.08808Z",
          "shell.execute_reply": "2022-01-28T07:20:23.093894Z"
        },
        "trusted": true,
        "id": "8dg9Cm-b0xc2"
      },
      "execution_count": null,
      "outputs": []
    },
    {
      "cell_type": "markdown",
      "source": [
        "**Hence, we are having 8523 different products with 12 features**"
      ],
      "metadata": {
        "id": "JScJWMyB0xc2"
      }
    },
    {
      "cell_type": "code",
      "source": [
        "# getting some information about the dataset\n",
        "sales_data.info()"
      ],
      "metadata": {
        "execution": {
          "iopub.status.busy": "2022-01-28T07:20:24.03673Z",
          "iopub.execute_input": "2022-01-28T07:20:24.037147Z",
          "iopub.status.idle": "2022-01-28T07:20:24.057157Z",
          "shell.execute_reply.started": "2022-01-28T07:20:24.037102Z",
          "shell.execute_reply": "2022-01-28T07:20:24.055955Z"
        },
        "trusted": true,
        "id": "t2wmK53M0xc3"
      },
      "execution_count": null,
      "outputs": []
    },
    {
      "cell_type": "markdown",
      "source": [
        "**Categorical Features:**\n",
        "\n",
        "* Item_Identifier : categories of different products\n",
        "\n",
        "* Item_Fat_Content : It tells us whether it has high fat content or low fat content or\n",
        "  regular fat content\n",
        "\n",
        "* Item_Type : It tells us whether it has meat or soft drink & such kind of things\n",
        "\n",
        "* Outlet_Identifier : It tells us the unique ID of the outlet\n",
        "\n",
        "* Outlet_Size : it tells us whether it is medium,high or small in size\n",
        "\n",
        "* Outlet_Location_Type : It tells us whether it is tier 1 or tier 2 & such kind of things\n",
        "\n",
        "* Outlet_Type : It tells us whether it is supermarket or grocerry store"
      ],
      "metadata": {
        "id": "iAIPDIhi0xc3"
      }
    },
    {
      "cell_type": "code",
      "source": [
        "# checking for missing values\n",
        "sales_data.isnull().sum()"
      ],
      "metadata": {
        "execution": {
          "iopub.status.busy": "2022-01-28T07:20:25.004255Z",
          "iopub.execute_input": "2022-01-28T07:20:25.004997Z",
          "iopub.status.idle": "2022-01-28T07:20:25.017136Z",
          "shell.execute_reply.started": "2022-01-28T07:20:25.004923Z",
          "shell.execute_reply": "2022-01-28T07:20:25.016235Z"
        },
        "trusted": true,
        "id": "meXd8AZN0xc3"
      },
      "execution_count": null,
      "outputs": []
    },
    {
      "cell_type": "markdown",
      "source": [
        "We can observe that we are having 1463 missing values in the Item_Weight column & we are having about 2410 missing values in the Outlet_Size column"
      ],
      "metadata": {
        "execution": {
          "iopub.status.busy": "2022-01-28T03:17:51.861646Z",
          "iopub.execute_input": "2022-01-28T03:17:51.861924Z",
          "iopub.status.idle": "2022-01-28T03:17:51.867982Z",
          "shell.execute_reply.started": "2022-01-28T03:17:51.861896Z",
          "shell.execute_reply": "2022-01-28T03:17:51.867101Z"
        },
        "id": "K27_g5gj0xc3"
      }
    },
    {
      "cell_type": "markdown",
      "source": [
        "\n",
        "**IN ORDER TO DEAL WITH THE MISSING VALUES**"
      ],
      "metadata": {
        "execution": {
          "iopub.status.busy": "2022-01-28T03:17:52.351382Z",
          "iopub.execute_input": "2022-01-28T03:17:52.352031Z",
          "iopub.status.idle": "2022-01-28T03:17:52.357665Z",
          "shell.execute_reply.started": "2022-01-28T03:17:52.351989Z",
          "shell.execute_reply": "2022-01-28T03:17:52.356833Z"
        },
        "id": "PK1ZX0h20xc3"
      }
    },
    {
      "cell_type": "markdown",
      "source": [
        "**Mean --> average**\n",
        "\n",
        "* The Mean value of a dataset is the average value i.e. a number around which a whole data is spread out. All values used in calculating the average are weighted equally when defining the Mean\n",
        "\n",
        "* In this case, in order to convert the missing values in the numerical column, we use mean of that particular column\n",
        "\n",
        "**Mode --> most repeated value**\n",
        "\n",
        "* The mode is the value that appears most frequently in a data set. A set of data may have one mode, more than one mode, or no mode at all.The mode can be the same value as the mean and/or median, but this is usually not the case.\n",
        "\n",
        "* In this case, in order to convert the missing values in the categorical feature, we use the mode of that particular column"
      ],
      "metadata": {
        "execution": {
          "iopub.status.busy": "2022-01-28T03:17:59.688051Z",
          "iopub.execute_input": "2022-01-28T03:17:59.688381Z",
          "iopub.status.idle": "2022-01-28T03:17:59.69188Z",
          "shell.execute_reply.started": "2022-01-28T03:17:59.688344Z",
          "shell.execute_reply": "2022-01-28T03:17:59.691259Z"
        },
        "id": "hNPQjgjx0xc4"
      }
    },
    {
      "cell_type": "markdown",
      "source": [
        "**Replacing the missing values in the \"Item_Weight\"column**"
      ],
      "metadata": {
        "id": "azViHms40xc4"
      }
    },
    {
      "cell_type": "code",
      "source": [
        "# mean value of \"Item_Weight\" column\n",
        "sales_data['Item_Weight'].mean()"
      ],
      "metadata": {
        "execution": {
          "iopub.status.busy": "2022-01-28T07:20:27.420994Z",
          "iopub.execute_input": "2022-01-28T07:20:27.421742Z",
          "iopub.status.idle": "2022-01-28T07:20:27.429042Z",
          "shell.execute_reply.started": "2022-01-28T07:20:27.421692Z",
          "shell.execute_reply": "2022-01-28T07:20:27.428137Z"
        },
        "trusted": true,
        "id": "V_eu6mt50xc4"
      },
      "execution_count": null,
      "outputs": []
    },
    {
      "cell_type": "code",
      "source": [
        "# filling the missing values in \"Item_weight column\" with \"Mean\" value\n",
        "sales_data['Item_Weight'].fillna(sales_data['Item_Weight'].mean(), inplace=True)"
      ],
      "metadata": {
        "execution": {
          "iopub.status.busy": "2022-01-28T07:20:27.899413Z",
          "iopub.execute_input": "2022-01-28T07:20:27.900325Z",
          "iopub.status.idle": "2022-01-28T07:20:27.906023Z",
          "shell.execute_reply.started": "2022-01-28T07:20:27.900279Z",
          "shell.execute_reply": "2022-01-28T07:20:27.904979Z"
        },
        "trusted": true,
        "id": "Lsm-Wy5U0xc4"
      },
      "execution_count": null,
      "outputs": []
    },
    {
      "cell_type": "markdown",
      "source": [
        "**Replacing the missing values in the \"Outlet_Size\"column**"
      ],
      "metadata": {
        "id": "4ZsLgPZn0xc4"
      }
    },
    {
      "cell_type": "code",
      "source": [
        "# mode of \"Outlet_Size\" column\n",
        "sales_data['Outlet_Size'].mode()"
      ],
      "metadata": {
        "execution": {
          "iopub.status.busy": "2022-01-28T07:20:28.831379Z",
          "iopub.execute_input": "2022-01-28T07:20:28.83176Z",
          "iopub.status.idle": "2022-01-28T07:20:28.840827Z",
          "shell.execute_reply.started": "2022-01-28T07:20:28.831719Z",
          "shell.execute_reply": "2022-01-28T07:20:28.839665Z"
        },
        "trusted": true,
        "id": "HHNd-np60xc4"
      },
      "execution_count": null,
      "outputs": []
    },
    {
      "cell_type": "code",
      "source": [
        "# filling the missing values in \"Outlet_Size\" column with Mode\n",
        "#Here we take Outlet_Size column & Outlet_Type column since they are correlated\n",
        "mode_of_Outlet_size = sales_data.pivot_table(values='Outlet_Size', columns='Outlet_Type', aggfunc=(lambda x: x.mode()[0]))"
      ],
      "metadata": {
        "execution": {
          "iopub.status.busy": "2022-01-28T07:20:29.343453Z",
          "iopub.execute_input": "2022-01-28T07:20:29.344024Z",
          "iopub.status.idle": "2022-01-28T07:20:29.36336Z",
          "shell.execute_reply.started": "2022-01-28T07:20:29.343982Z",
          "shell.execute_reply": "2022-01-28T07:20:29.36218Z"
        },
        "trusted": true,
        "id": "uW0th8N00xc4"
      },
      "execution_count": null,
      "outputs": []
    },
    {
      "cell_type": "code",
      "source": [
        "print(mode_of_Outlet_size)"
      ],
      "metadata": {
        "execution": {
          "iopub.status.busy": "2022-01-28T07:20:29.8069Z",
          "iopub.execute_input": "2022-01-28T07:20:29.807238Z",
          "iopub.status.idle": "2022-01-28T07:20:29.815641Z",
          "shell.execute_reply.started": "2022-01-28T07:20:29.807204Z",
          "shell.execute_reply": "2022-01-28T07:20:29.814747Z"
        },
        "trusted": true,
        "id": "3-Xt3J7n0xc4"
      },
      "execution_count": null,
      "outputs": []
    },
    {
      "cell_type": "markdown",
      "source": [
        "From the above pivot table, we can observe that\n",
        "\n",
        "* If the outlet type is Grocery Store in most of the cases the outlet size(mode) is Small\n",
        "* If the outlet type is Supermarket Type1 in most of the cases the outlet size(mode) is Small\n",
        "* If the outlet type is Supermarket Type2 in most of the cases the outlet size(mode) is Medium\n",
        "* If the outlet type is Supermarket Type3 in most of the cases the outlet size(mode) is Medium"
      ],
      "metadata": {
        "id": "H-vu7a-Y0xc4"
      }
    },
    {
      "cell_type": "code",
      "source": [
        "miss_values = sales_data['Outlet_Size'].isnull()"
      ],
      "metadata": {
        "execution": {
          "iopub.status.busy": "2022-01-28T07:20:30.777325Z",
          "iopub.execute_input": "2022-01-28T07:20:30.777715Z",
          "iopub.status.idle": "2022-01-28T07:20:30.783451Z",
          "shell.execute_reply.started": "2022-01-28T07:20:30.777672Z",
          "shell.execute_reply": "2022-01-28T07:20:30.782418Z"
        },
        "trusted": true,
        "id": "XOBynoNQ0xc5"
      },
      "execution_count": null,
      "outputs": []
    },
    {
      "cell_type": "code",
      "source": [
        "print(miss_values)"
      ],
      "metadata": {
        "execution": {
          "iopub.status.busy": "2022-01-28T07:20:31.268691Z",
          "iopub.execute_input": "2022-01-28T07:20:31.269305Z",
          "iopub.status.idle": "2022-01-28T07:20:31.276707Z",
          "shell.execute_reply.started": "2022-01-28T07:20:31.269232Z",
          "shell.execute_reply": "2022-01-28T07:20:31.27564Z"
        },
        "trusted": true,
        "id": "jSXgLGlc0xc5"
      },
      "execution_count": null,
      "outputs": []
    },
    {
      "cell_type": "markdown",
      "source": [
        "**False** represents it is not null that means the **value is present**\n",
        "\n",
        "**True** represents a particular **value is missing**"
      ],
      "metadata": {
        "id": "jQThzZ930xc5"
      }
    },
    {
      "cell_type": "code",
      "source": [
        "sales_data.loc[miss_values, 'Outlet_Size'] = sales_data.loc[miss_values,'Outlet_Type'].apply(lambda x: mode_of_Outlet_size[x])"
      ],
      "metadata": {
        "execution": {
          "iopub.status.busy": "2022-01-28T07:20:32.179806Z",
          "iopub.execute_input": "2022-01-28T07:20:32.180538Z",
          "iopub.status.idle": "2022-01-28T07:20:32.249745Z",
          "shell.execute_reply.started": "2022-01-28T07:20:32.180493Z",
          "shell.execute_reply": "2022-01-28T07:20:32.248748Z"
        },
        "trusted": true,
        "id": "VoO3G8DB0xc5"
      },
      "execution_count": null,
      "outputs": []
    },
    {
      "cell_type": "code",
      "source": [
        "# checking for missing values\n",
        "sales_data.isnull().sum()"
      ],
      "metadata": {
        "execution": {
          "iopub.status.busy": "2022-01-28T07:20:32.676402Z",
          "iopub.execute_input": "2022-01-28T07:20:32.677224Z",
          "iopub.status.idle": "2022-01-28T07:20:32.689299Z",
          "shell.execute_reply.started": "2022-01-28T07:20:32.677162Z",
          "shell.execute_reply": "2022-01-28T07:20:32.688714Z"
        },
        "trusted": true,
        "id": "85xW2bMO0xc5"
      },
      "execution_count": null,
      "outputs": []
    },
    {
      "cell_type": "markdown",
      "source": [
        "**Thus we don't have any missing values in a numerical column & a categorical column**"
      ],
      "metadata": {
        "id": "pjcHfLlK0xc5"
      }
    },
    {
      "cell_type": "markdown",
      "source": [
        "**ANALYSING THE DATA**"
      ],
      "metadata": {
        "id": "_23E3mw70xc5"
      }
    },
    {
      "cell_type": "code",
      "source": [
        "#stastical measures about the data\n",
        "sales_data.describe()"
      ],
      "metadata": {
        "execution": {
          "iopub.status.busy": "2022-01-28T07:20:34.156097Z",
          "iopub.execute_input": "2022-01-28T07:20:34.156423Z",
          "iopub.status.idle": "2022-01-28T07:20:34.189039Z",
          "shell.execute_reply.started": "2022-01-28T07:20:34.156389Z",
          "shell.execute_reply": "2022-01-28T07:20:34.188145Z"
        },
        "trusted": true,
        "id": "wE-RFkdF0xc5"
      },
      "execution_count": null,
      "outputs": []
    },
    {
      "cell_type": "markdown",
      "source": [
        "**DATA VISUALIZATION**\n",
        "\n",
        "* Data visualization is the graphical representation of information and data.\n",
        "* It enables decision makers to see analytics presented visually, so they can grasp difficult concepts or identify new patterns"
      ],
      "metadata": {
        "id": "1C07Neba0xc5"
      }
    },
    {
      "cell_type": "markdown",
      "source": [
        "**VISUALIZATION OF NUMERICAL FEATURES**"
      ],
      "metadata": {
        "id": "Gy2OHl930xc6"
      }
    },
    {
      "cell_type": "code",
      "source": [
        "sns.set()"
      ],
      "metadata": {
        "execution": {
          "iopub.status.busy": "2022-01-28T07:20:35.858685Z",
          "iopub.execute_input": "2022-01-28T07:20:35.859036Z",
          "iopub.status.idle": "2022-01-28T07:20:35.868206Z",
          "shell.execute_reply.started": "2022-01-28T07:20:35.859Z",
          "shell.execute_reply": "2022-01-28T07:20:35.866992Z"
        },
        "trusted": true,
        "id": "P9SPlkMT0xc6"
      },
      "execution_count": null,
      "outputs": []
    },
    {
      "cell_type": "code",
      "source": [
        "# Item_Weight distribution\n",
        "#plt.figure(figsize=(5,5))\n",
        "sns.distplot(sales_data['Item_Weight'], color='purple')\n",
        "plt.show()"
      ],
      "metadata": {
        "execution": {
          "iopub.status.busy": "2022-01-28T07:20:36.419765Z",
          "iopub.execute_input": "2022-01-28T07:20:36.420457Z",
          "iopub.status.idle": "2022-01-28T07:20:36.729336Z",
          "shell.execute_reply.started": "2022-01-28T07:20:36.42041Z",
          "shell.execute_reply": "2022-01-28T07:20:36.728247Z"
        },
        "trusted": true,
        "id": "YL457i900xc6"
      },
      "execution_count": null,
      "outputs": []
    },
    {
      "cell_type": "markdown",
      "source": [
        "* Hence from the above graph we can observe that we have the item weight from 5 Kg to 20 Kg & we have maximum values around 12 Kg where the mean is 12.85 Kg\n",
        "\n",
        "* Therefore in this 8523 products the average weight is about 12.8 Kg"
      ],
      "metadata": {
        "id": "6hFSLOLZ0xc6"
      }
    },
    {
      "cell_type": "code",
      "source": [
        "# Item Visibility distribution\n",
        "#plt.figure(figsize=(5,5))\n",
        "sns.distplot(sales_data['Item_Visibility'], color='purple')\n",
        "plt.show()"
      ],
      "metadata": {
        "execution": {
          "iopub.status.busy": "2022-01-28T07:20:37.566711Z",
          "iopub.execute_input": "2022-01-28T07:20:37.567212Z",
          "iopub.status.idle": "2022-01-28T07:20:37.919394Z",
          "shell.execute_reply.started": "2022-01-28T07:20:37.567168Z",
          "shell.execute_reply": "2022-01-28T07:20:37.918343Z"
        },
        "trusted": true,
        "id": "feqfLpic0xc6"
      },
      "execution_count": null,
      "outputs": []
    },
    {
      "cell_type": "markdown",
      "source": [
        "* Hence from the above graph we can observe that Item_Visibility feature is positively skewed"
      ],
      "metadata": {
        "id": "ARJ6Yhi-0xc6"
      }
    },
    {
      "cell_type": "code",
      "source": [
        "# Item MRP distribution\n",
        "#plt.figure(figsize=(5,5))\n",
        "sns.distplot(sales_data['Item_MRP'], color='purple')\n",
        "plt.show()"
      ],
      "metadata": {
        "execution": {
          "iopub.status.busy": "2022-01-28T07:20:38.602856Z",
          "iopub.execute_input": "2022-01-28T07:20:38.603652Z",
          "iopub.status.idle": "2022-01-28T07:20:38.918098Z",
          "shell.execute_reply.started": "2022-01-28T07:20:38.603603Z",
          "shell.execute_reply": "2022-01-28T07:20:38.916938Z"
        },
        "trusted": true,
        "id": "XxGPtMom0xdC"
      },
      "execution_count": null,
      "outputs": []
    },
    {
      "cell_type": "markdown",
      "source": [
        "* From the above graph, we can observe that we have good amount of products for 50 MRP,  100 MRP ,200 MRP & then we have less products\n",
        "\n",
        "* Hence we have more products in the range of 100 MRP - 180 MRP"
      ],
      "metadata": {
        "id": "w_roo68K0xdC"
      }
    },
    {
      "cell_type": "code",
      "source": [
        "# Item_Outlet_Sales distribution\n",
        "#plt.figure(figsize=(5,5))\n",
        "sns.distplot(sales_data['Item_Outlet_Sales'], color='purple')\n",
        "plt.show()"
      ],
      "metadata": {
        "execution": {
          "iopub.status.busy": "2022-01-28T07:20:39.78295Z",
          "iopub.execute_input": "2022-01-28T07:20:39.783323Z",
          "iopub.status.idle": "2022-01-28T07:20:40.149606Z",
          "shell.execute_reply.started": "2022-01-28T07:20:39.783287Z",
          "shell.execute_reply": "2022-01-28T07:20:40.148611Z"
        },
        "trusted": true,
        "id": "48pQn12S0xdC"
      },
      "execution_count": null,
      "outputs": []
    },
    {
      "cell_type": "markdown",
      "source": [
        "* Hence from the above graph we can observe that Item_Outlet_Sales feature is positively skewed"
      ],
      "metadata": {
        "id": "KoYDF-nE0xdC"
      }
    },
    {
      "cell_type": "code",
      "source": [
        "# Outlet_Establishment_Year column\n",
        "#plt.figure(figsize=(5,5))\n",
        "sns.countplot(x='Outlet_Establishment_Year', data=sales_data)\n",
        "plt.show()"
      ],
      "metadata": {
        "execution": {
          "iopub.status.busy": "2022-01-28T07:20:40.889143Z",
          "iopub.execute_input": "2022-01-28T07:20:40.890304Z",
          "iopub.status.idle": "2022-01-28T07:20:41.128172Z",
          "shell.execute_reply.started": "2022-01-28T07:20:40.890239Z",
          "shell.execute_reply": "2022-01-28T07:20:41.127369Z"
        },
        "trusted": true,
        "id": "ErEq78yl0xdC"
      },
      "execution_count": null,
      "outputs": []
    },
    {
      "cell_type": "markdown",
      "source": [
        "* Hence from the above graph we can observe that we have the outlet establishment from the year 1985, 1987 and all the way to 2009\n",
        "\n",
        "* Therefore these are the years on which different outlets or different stores have been established\n",
        "\n",
        "* We can also observe that a lots of stores are established in the year 1985 & less in the year 1998 & all the others years are almost same"
      ],
      "metadata": {
        "id": "AlAJOh430xdD"
      }
    },
    {
      "cell_type": "markdown",
      "source": [
        "**VISUALIZATION OF CATEGORICAL FEATURES**"
      ],
      "metadata": {
        "id": "sSOqbZp00xdD"
      }
    },
    {
      "cell_type": "code",
      "source": [
        "# Item_Fat_Content column\n",
        "#plt.figure(figsize=(5,5))\n",
        "sns.countplot(x='Item_Fat_Content', data=sales_data)\n",
        "plt.show()"
      ],
      "metadata": {
        "execution": {
          "iopub.status.busy": "2022-01-28T07:20:42.504215Z",
          "iopub.execute_input": "2022-01-28T07:20:42.504542Z",
          "iopub.status.idle": "2022-01-28T07:20:42.700804Z",
          "shell.execute_reply.started": "2022-01-28T07:20:42.504509Z",
          "shell.execute_reply": "2022-01-28T07:20:42.699591Z"
        },
        "trusted": true,
        "id": "fYP4NBd-0xdD"
      },
      "execution_count": null,
      "outputs": []
    },
    {
      "cell_type": "markdown",
      "source": [
        "* From the above graph we can observe that the data in the Item_Fat_Content column has to be cleaned since we have columns such as Low fat,low fat & Lf which is same & must be put into a single particular label.Similarly we have Regular & reg where we need to put this into a single entity.\n",
        "\n",
        "* Hence, we need to pre process this data so we will be dealing with this in a later point of time after the visualization of the data"
      ],
      "metadata": {
        "id": "__ABv-Yq0xdD"
      }
    },
    {
      "cell_type": "code",
      "source": [
        "# Item_Type column\n",
        "plt.figure(figsize=(25,7))\n",
        "sns.countplot(x='Item_Type', data=sales_data)\n",
        "plt.show()"
      ],
      "metadata": {
        "execution": {
          "iopub.status.busy": "2022-01-28T07:20:43.474681Z",
          "iopub.execute_input": "2022-01-28T07:20:43.475032Z",
          "iopub.status.idle": "2022-01-28T07:20:44.009663Z",
          "shell.execute_reply.started": "2022-01-28T07:20:43.474998Z",
          "shell.execute_reply": "2022-01-28T07:20:44.008488Z"
        },
        "trusted": true,
        "id": "jEZ85WWy0xdD"
      },
      "execution_count": null,
      "outputs": []
    },
    {
      "cell_type": "markdown",
      "source": [
        "* From the above graph we can observe the different items or food types we have such as dairy, soft drinks, meat, fruits & vegetables, household etc\n",
        "\n",
        "* Hence totally we have about 16 Item_Type values in this case where we have more values in the fruits & vegetables column and snack foods column"
      ],
      "metadata": {
        "id": "AY4lHnKh0xdD"
      }
    },
    {
      "cell_type": "code",
      "source": [
        "# Outlet_Size column\n",
        "#plt.figure(figsize=(5,5))\n",
        "sns.countplot(x='Outlet_Size', data=sales_data)\n",
        "plt.show()"
      ],
      "metadata": {
        "execution": {
          "iopub.status.busy": "2022-01-28T07:20:44.486207Z",
          "iopub.execute_input": "2022-01-28T07:20:44.486536Z",
          "iopub.status.idle": "2022-01-28T07:20:44.666379Z",
          "shell.execute_reply.started": "2022-01-28T07:20:44.486503Z",
          "shell.execute_reply": "2022-01-28T07:20:44.665267Z"
        },
        "trusted": true,
        "id": "lfw8DFW40xdD"
      },
      "execution_count": null,
      "outputs": []
    },
    {
      "cell_type": "markdown",
      "source": [
        "* From the above graph, we can observe that we have three outlet_Size in this case which is medium, small & high"
      ],
      "metadata": {
        "id": "KfJzDJSb0xdD"
      }
    },
    {
      "cell_type": "markdown",
      "source": [
        "**PREPROCESSING OF DATA**"
      ],
      "metadata": {
        "id": "UEzHW5A50xdD"
      }
    },
    {
      "cell_type": "code",
      "source": [
        "sales_data.head()"
      ],
      "metadata": {
        "execution": {
          "iopub.status.busy": "2022-01-28T07:20:46.142314Z",
          "iopub.execute_input": "2022-01-28T07:20:46.142712Z",
          "iopub.status.idle": "2022-01-28T07:20:46.163136Z",
          "shell.execute_reply.started": "2022-01-28T07:20:46.142664Z",
          "shell.execute_reply": "2022-01-28T07:20:46.162079Z"
        },
        "trusted": true,
        "id": "pfjFCcXc0xdD"
      },
      "execution_count": null,
      "outputs": []
    },
    {
      "cell_type": "code",
      "source": [
        "sales_data['Item_Fat_Content'].value_counts()"
      ],
      "metadata": {
        "execution": {
          "iopub.status.busy": "2022-01-28T07:20:46.667156Z",
          "iopub.execute_input": "2022-01-28T07:20:46.668096Z",
          "iopub.status.idle": "2022-01-28T07:20:46.677598Z",
          "shell.execute_reply.started": "2022-01-28T07:20:46.668037Z",
          "shell.execute_reply": "2022-01-28T07:20:46.676968Z"
        },
        "trusted": true,
        "id": "iUfQhasi0xdD"
      },
      "execution_count": null,
      "outputs": []
    },
    {
      "cell_type": "code",
      "source": [
        "sales_data.replace({'Item_Fat_Content': {'low fat':'Low Fat','LF':'Low Fat', 'reg':'Regular'}}, inplace=True)"
      ],
      "metadata": {
        "execution": {
          "iopub.status.busy": "2022-01-28T07:20:47.229227Z",
          "iopub.execute_input": "2022-01-28T07:20:47.229782Z",
          "iopub.status.idle": "2022-01-28T07:20:47.238276Z",
          "shell.execute_reply.started": "2022-01-28T07:20:47.229741Z",
          "shell.execute_reply": "2022-01-28T07:20:47.237031Z"
        },
        "trusted": true,
        "id": "P6nDIAL40xdD"
      },
      "execution_count": null,
      "outputs": []
    },
    {
      "cell_type": "code",
      "source": [
        "sales_data['Item_Fat_Content'].value_counts()"
      ],
      "metadata": {
        "execution": {
          "iopub.status.busy": "2022-01-28T07:20:47.738064Z",
          "iopub.execute_input": "2022-01-28T07:20:47.738601Z",
          "iopub.status.idle": "2022-01-28T07:20:47.746667Z",
          "shell.execute_reply.started": "2022-01-28T07:20:47.738549Z",
          "shell.execute_reply": "2022-01-28T07:20:47.745757Z"
        },
        "trusted": true,
        "id": "CpeEpM_D0xdE"
      },
      "execution_count": null,
      "outputs": []
    },
    {
      "cell_type": "markdown",
      "source": [
        "Hence, we have successfully cleaned the data in Item_Fat_Content column"
      ],
      "metadata": {
        "id": "YUsOB2wQ0xdE"
      }
    },
    {
      "cell_type": "markdown",
      "source": [
        "**LABEL ENCODING:**\n",
        "*     Label Encoding refers to the convertion of the labels into a numeric form so as to convert them into the machine-readable form. Machine learning algorithms can then decide in a better way how those labels must be operated. It is an important pre-processing step for the structured dataset in supervised learning.\n",
        "\n",
        "*     In simple terms, taking all the categorical values & transforming them into some numerical values"
      ],
      "metadata": {
        "id": "Cd9RGx-P0xdE"
      }
    },
    {
      "cell_type": "code",
      "source": [
        "encoder = LabelEncoder()"
      ],
      "metadata": {
        "execution": {
          "iopub.status.busy": "2022-01-28T07:20:49.450047Z",
          "iopub.execute_input": "2022-01-28T07:20:49.450436Z",
          "iopub.status.idle": "2022-01-28T07:20:49.455598Z",
          "shell.execute_reply.started": "2022-01-28T07:20:49.450393Z",
          "shell.execute_reply": "2022-01-28T07:20:49.454594Z"
        },
        "trusted": true,
        "id": "FD6MuU320xdE"
      },
      "execution_count": null,
      "outputs": []
    },
    {
      "cell_type": "code",
      "source": [
        "sales_data['Item_Identifier'] = encoder.fit_transform(sales_data['Item_Identifier'])\n",
        "\n",
        "sales_data['Item_Fat_Content'] = encoder.fit_transform(sales_data['Item_Fat_Content'])\n",
        "\n",
        "sales_data['Item_Type'] = encoder.fit_transform(sales_data['Item_Type'])\n",
        "\n",
        "sales_data['Outlet_Identifier'] = encoder.fit_transform(sales_data['Outlet_Identifier'])\n",
        "\n",
        "sales_data['Outlet_Size'] = encoder.fit_transform(sales_data['Outlet_Size'])\n",
        "\n",
        "sales_data['Outlet_Location_Type'] = encoder.fit_transform(sales_data['Outlet_Location_Type'])\n",
        "\n",
        "sales_data['Outlet_Type'] = encoder.fit_transform(sales_data['Outlet_Type'])"
      ],
      "metadata": {
        "execution": {
          "iopub.status.busy": "2022-01-28T07:20:50.020847Z",
          "iopub.execute_input": "2022-01-28T07:20:50.02193Z",
          "iopub.status.idle": "2022-01-28T07:20:50.045333Z",
          "shell.execute_reply.started": "2022-01-28T07:20:50.021863Z",
          "shell.execute_reply": "2022-01-28T07:20:50.043996Z"
        },
        "trusted": true,
        "id": "3La_lBqs0xdE"
      },
      "execution_count": null,
      "outputs": []
    },
    {
      "cell_type": "code",
      "source": [
        "sales_data.head()"
      ],
      "metadata": {
        "execution": {
          "iopub.status.busy": "2022-01-28T07:20:50.632214Z",
          "iopub.execute_input": "2022-01-28T07:20:50.632804Z",
          "iopub.status.idle": "2022-01-28T07:20:50.648661Z",
          "shell.execute_reply.started": "2022-01-28T07:20:50.632747Z",
          "shell.execute_reply": "2022-01-28T07:20:50.647984Z"
        },
        "trusted": true,
        "id": "iZf1LKvo0xdE"
      },
      "execution_count": null,
      "outputs": []
    },
    {
      "cell_type": "markdown",
      "source": [
        "* Hence, we have only numerical values in our data where these categories are given some specific numerical values if it is unique\n",
        "\n",
        "* Therefore we have successfully encoded categorical columns into numerical values which is an important data preprocessing step."
      ],
      "metadata": {
        "id": "thP7-LFn0xdF"
      }
    },
    {
      "cell_type": "markdown",
      "source": [
        "**SPLITTING FEATURES AND TARGET INTO X & Y RESPECTIVELY**\n",
        "\n",
        "We know that the data in the \"Item_Outlet_Sales\" column is the target & remaining are the features"
      ],
      "metadata": {
        "id": "AM3D0dYx0xdF"
      }
    },
    {
      "cell_type": "code",
      "source": [
        "#Let's have all the features in X & target in Y\n",
        "X = sales_data.drop(columns='Item_Outlet_Sales', axis=1)\n",
        "Y = sales_data['Item_Outlet_Sales']"
      ],
      "metadata": {
        "execution": {
          "iopub.status.busy": "2022-01-28T07:20:52.274933Z",
          "iopub.execute_input": "2022-01-28T07:20:52.275498Z",
          "iopub.status.idle": "2022-01-28T07:20:52.282551Z",
          "shell.execute_reply.started": "2022-01-28T07:20:52.275436Z",
          "shell.execute_reply": "2022-01-28T07:20:52.281884Z"
        },
        "trusted": true,
        "id": "WKLHsJYf0xdF"
      },
      "execution_count": null,
      "outputs": []
    },
    {
      "cell_type": "code",
      "source": [
        "# X contains features\n",
        "print(X)"
      ],
      "metadata": {
        "execution": {
          "iopub.status.busy": "2022-01-28T07:20:52.776498Z",
          "iopub.execute_input": "2022-01-28T07:20:52.77741Z",
          "iopub.status.idle": "2022-01-28T07:20:52.790164Z",
          "shell.execute_reply.started": "2022-01-28T07:20:52.777358Z",
          "shell.execute_reply": "2022-01-28T07:20:52.789127Z"
        },
        "trusted": true,
        "id": "7EQeu4FV0xdF"
      },
      "execution_count": null,
      "outputs": []
    },
    {
      "cell_type": "code",
      "source": [
        "# Y contains target\n",
        "print(Y)"
      ],
      "metadata": {
        "execution": {
          "iopub.status.busy": "2022-01-28T07:20:53.304022Z",
          "iopub.execute_input": "2022-01-28T07:20:53.304738Z",
          "iopub.status.idle": "2022-01-28T07:20:53.311604Z",
          "shell.execute_reply.started": "2022-01-28T07:20:53.304692Z",
          "shell.execute_reply": "2022-01-28T07:20:53.310675Z"
        },
        "trusted": true,
        "id": "EscTwRsB0xdF"
      },
      "execution_count": null,
      "outputs": []
    },
    {
      "cell_type": "markdown",
      "source": [
        "**SPLITTING THE DATA INTO TRAINING DATA & TESTING DATA**"
      ],
      "metadata": {
        "id": "UMSUWjE80xdF"
      }
    },
    {
      "cell_type": "code",
      "source": [
        "X_train, X_test, Y_train, Y_test = train_test_split(X, Y, test_size=0.2, random_state=2)"
      ],
      "metadata": {
        "execution": {
          "iopub.status.busy": "2022-01-28T07:20:54.379652Z",
          "iopub.execute_input": "2022-01-28T07:20:54.380045Z",
          "iopub.status.idle": "2022-01-28T07:20:54.38969Z",
          "shell.execute_reply.started": "2022-01-28T07:20:54.380007Z",
          "shell.execute_reply": "2022-01-28T07:20:54.388415Z"
        },
        "trusted": true,
        "id": "1xsLUZhU0xdF"
      },
      "execution_count": null,
      "outputs": []
    },
    {
      "cell_type": "code",
      "source": [
        "print(X.shape, X_train.shape, X_test.shape)"
      ],
      "metadata": {
        "execution": {
          "iopub.status.busy": "2022-01-28T07:20:54.924437Z",
          "iopub.execute_input": "2022-01-28T07:20:54.924812Z",
          "iopub.status.idle": "2022-01-28T07:20:54.931787Z",
          "shell.execute_reply.started": "2022-01-28T07:20:54.924768Z",
          "shell.execute_reply": "2022-01-28T07:20:54.930764Z"
        },
        "trusted": true,
        "id": "4xrIMeKY0xdF"
      },
      "execution_count": null,
      "outputs": []
    },
    {
      "cell_type": "markdown",
      "source": [
        "We can observe that\n",
        "\n",
        "* X contains the original data which is 8523\n",
        "\n",
        "* X_trains contains 80% of the data which is 6818\n",
        "\n",
        "* X_test contains 20% of the data which is 1705"
      ],
      "metadata": {
        "id": "nKK4zQSF0xdF"
      }
    },
    {
      "cell_type": "markdown",
      "source": [
        "**MACHINE LEARNING MODEL**"
      ],
      "metadata": {
        "id": "Y64BNKbM0xdG"
      }
    },
    {
      "cell_type": "markdown",
      "source": [
        "**SUPERVISED LEARNING:**\n",
        "\n",
        "*  It is defined by its use of labeled datasets to train algorithms that to classify data or predict outcomes accurately.\n",
        "\n",
        "* Basically supervised learning is when we teach or train the machine using data that is well labeled.\n",
        "\n",
        "* In this particular project, the labels are the target which is more precise.\n",
        "\n",
        "* In this case the targets are sales amount\n",
        "\n",
        "**REGRESSION:**\n",
        "\n",
        "* Regression means predicting a particular value especially continuous value (i.e.sales)"
      ],
      "metadata": {
        "id": "VP6uxqk-0xdG"
      }
    },
    {
      "cell_type": "markdown",
      "source": [
        "**MACHINE LEARNING MODEL TRAINING - XGBoost Regressor**\n",
        "\n",
        "Extreme Gradient Boosting (XGBoost) is an open-source library that provides an efficient and effective implementation of the gradient boosting algorithm.XGBoost is an efficient implementation of gradient boosting that can be used for regression predictive modeling."
      ],
      "metadata": {
        "id": "YAccM2eI0xdG"
      }
    },
    {
      "cell_type": "code",
      "source": [
        "regressor = XGBRegressor()"
      ],
      "metadata": {
        "execution": {
          "iopub.status.busy": "2022-01-28T07:20:59.433783Z",
          "iopub.execute_input": "2022-01-28T07:20:59.434127Z",
          "iopub.status.idle": "2022-01-28T07:20:59.43816Z",
          "shell.execute_reply.started": "2022-01-28T07:20:59.434089Z",
          "shell.execute_reply": "2022-01-28T07:20:59.437551Z"
        },
        "trusted": true,
        "id": "ursj2MSc0xdG"
      },
      "execution_count": null,
      "outputs": []
    },
    {
      "cell_type": "code",
      "source": [
        "#fit the model\n",
        "#Training data is in X_train and the corresponding price value is in the Y_train\n",
        "regressor.fit(X_train, Y_train)"
      ],
      "metadata": {
        "execution": {
          "iopub.status.busy": "2022-01-28T07:21:00.025104Z",
          "iopub.execute_input": "2022-01-28T07:21:00.025444Z",
          "iopub.status.idle": "2022-01-28T07:21:00.781942Z",
          "shell.execute_reply.started": "2022-01-28T07:21:00.025409Z",
          "shell.execute_reply": "2022-01-28T07:21:00.78102Z"
        },
        "trusted": true,
        "id": "VSoVx3830xdG"
      },
      "execution_count": null,
      "outputs": []
    },
    {
      "cell_type": "markdown",
      "source": [
        "**EVALUATION**\n",
        "\n",
        "The R2 score is a very important metric that is used to evaluate the performance of a regression-based machine learning model. It is pronounced as R squared and is also known as the coefficient of determination. It works by measuring the amount of variance in the predictions explained by the dataset."
      ],
      "metadata": {
        "id": "j3h0w9XI0xdG"
      }
    },
    {
      "cell_type": "markdown",
      "source": [
        "**PREDICTION OF THE DATA**"
      ],
      "metadata": {
        "id": "LiRvwX5j0xdG"
      }
    },
    {
      "cell_type": "code",
      "source": [
        "sales_data_prediction = regressor.predict(X_train)"
      ],
      "metadata": {
        "execution": {
          "iopub.status.busy": "2022-01-28T07:21:01.121713Z",
          "iopub.execute_input": "2022-01-28T07:21:01.122438Z",
          "iopub.status.idle": "2022-01-28T07:21:01.140618Z",
          "shell.execute_reply.started": "2022-01-28T07:21:01.122392Z",
          "shell.execute_reply": "2022-01-28T07:21:01.139809Z"
        },
        "trusted": true,
        "id": "MtvVnphe0xdG"
      },
      "execution_count": null,
      "outputs": []
    },
    {
      "cell_type": "code",
      "source": [
        "# In order to check the performance of the model we find the R squared Value\n",
        "r2_sales = metrics.r2_score(Y_train, sales_data_prediction)\n",
        "print('R Squared value = ', r2_sales)"
      ],
      "metadata": {
        "execution": {
          "iopub.status.busy": "2022-01-28T07:21:14.28084Z",
          "iopub.execute_input": "2022-01-28T07:21:14.2819Z",
          "iopub.status.idle": "2022-01-28T07:21:14.288618Z",
          "shell.execute_reply.started": "2022-01-28T07:21:14.281842Z",
          "shell.execute_reply": "2022-01-28T07:21:14.28789Z"
        },
        "trusted": true,
        "id": "DuUUjiKe0xdG"
      },
      "execution_count": null,
      "outputs": []
    },
    {
      "cell_type": "code",
      "source": [
        "# prediction on test data\n",
        "data_prediction = regressor.predict(X_test)"
      ],
      "metadata": {
        "execution": {
          "iopub.status.busy": "2022-01-28T07:21:17.65949Z",
          "iopub.execute_input": "2022-01-28T07:21:17.660332Z",
          "iopub.status.idle": "2022-01-28T07:21:17.672874Z",
          "shell.execute_reply.started": "2022-01-28T07:21:17.660274Z",
          "shell.execute_reply": "2022-01-28T07:21:17.671974Z"
        },
        "trusted": true,
        "id": "vh1ogHs-0xdG"
      },
      "execution_count": null,
      "outputs": []
    },
    {
      "cell_type": "code",
      "source": [
        "# R squared Value\n",
        "r2_data = metrics.r2_score(Y_test, data_prediction)"
      ],
      "metadata": {
        "execution": {
          "iopub.status.busy": "2022-01-28T07:21:18.191989Z",
          "iopub.execute_input": "2022-01-28T07:21:18.193035Z",
          "iopub.status.idle": "2022-01-28T07:21:18.199025Z",
          "shell.execute_reply.started": "2022-01-28T07:21:18.192986Z",
          "shell.execute_reply": "2022-01-28T07:21:18.197965Z"
        },
        "trusted": true,
        "id": "r9eDE5mD0xdH"
      },
      "execution_count": null,
      "outputs": []
    },
    {
      "cell_type": "code",
      "source": [
        "print('R Squared value = ', r2_data)"
      ],
      "metadata": {
        "execution": {
          "iopub.status.busy": "2022-01-28T07:21:18.788699Z",
          "iopub.execute_input": "2022-01-28T07:21:18.789043Z",
          "iopub.status.idle": "2022-01-28T07:21:18.79576Z",
          "shell.execute_reply.started": "2022-01-28T07:21:18.789008Z",
          "shell.execute_reply": "2022-01-28T07:21:18.794547Z"
        },
        "trusted": true,
        "id": "tuKjgh7m0xdH"
      },
      "execution_count": null,
      "outputs": []
    },
    {
      "cell_type": "markdown",
      "source": [
        "**BUILDING A PREDICTIVE SYSTEM**\n",
        "\n",
        "* Building a predictive system inorder to find the sales for the first product from the dataset"
      ],
      "metadata": {
        "id": "S3PaMaU90xdH"
      }
    },
    {
      "cell_type": "code",
      "source": [
        "input_data = (156, 9.300, 0, 0.016047, 4, 249.8092, 9, 1999,1, 0, 1)\n",
        "#input_data_as_numpy_array = np.asarray(input_data)\n",
        "#input_data_reshaped = input_data_as_numpy_array.reshape(1,-1)\n",
        "#prediction = regressor.predict(input_data_reshaped)\n",
        "#print(prediction)\n",
        "#print(\"The initial value is \",prediction[0])\n",
        "print(\"The sales for the first product in the dataset is predicted as \", sales_data_prediction[0])"
      ],
      "metadata": {
        "execution": {
          "iopub.status.busy": "2022-01-28T07:21:19.459307Z",
          "iopub.execute_input": "2022-01-28T07:21:19.459659Z",
          "iopub.status.idle": "2022-01-28T07:21:19.466612Z",
          "shell.execute_reply.started": "2022-01-28T07:21:19.45962Z",
          "shell.execute_reply": "2022-01-28T07:21:19.46561Z"
        },
        "trusted": true,
        "id": "NFNTh4T50xdH"
      },
      "execution_count": null,
      "outputs": []
    },
    {
      "cell_type": "code",
      "source": [
        "print(\"Thus we have built the model to predict the sales & have performed the evaluation successfully\")"
      ],
      "metadata": {
        "execution": {
          "iopub.status.busy": "2022-01-28T07:21:21.853878Z",
          "iopub.execute_input": "2022-01-28T07:21:21.855046Z",
          "iopub.status.idle": "2022-01-28T07:21:21.861708Z",
          "shell.execute_reply.started": "2022-01-28T07:21:21.854983Z",
          "shell.execute_reply": "2022-01-28T07:21:21.860685Z"
        },
        "trusted": true,
        "id": "nyP9Ec2B0xdI"
      },
      "execution_count": null,
      "outputs": []
    },
    {
      "cell_type": "markdown",
      "source": [
        "**STAY SAFE**🏡 & **STAY HEALTHY**👩\n",
        "\n",
        "**HAPPY LEARNING** ✍ & **KEEP KAGGLING** 👩🏻\n",
        "\n"
      ],
      "metadata": {
        "id": "yLKystRV0xdI"
      }
    },
    {
      "cell_type": "code",
      "source": [],
      "metadata": {
        "id": "at0ZsEle0xdI"
      },
      "execution_count": null,
      "outputs": []
    }
  ]
}
